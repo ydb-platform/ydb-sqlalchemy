{
 "cells": [
  {
   "cell_type": "markdown",
   "id": "86850a2b-3753-4de5-99bd-eccc834c3b26",
   "metadata": {},
   "source": [
    "# YDB SQLAlchemy + Jupyter Notebook Example"
   ]
  },
  {
   "cell_type": "markdown",
   "id": "934044a0-bbf0-47af-8d14-d9966566b6cb",
   "metadata": {},
   "source": [
    "## Prepare simple dataset"
   ]
  },
  {
   "cell_type": "markdown",
   "id": "025eb608-4119-445f-aa8a-10dc2f76b318",
   "metadata": {},
   "source": [
    "### Download"
   ]
  },
  {
   "cell_type": "markdown",
   "id": "728a9cf0-368f-4786-b3f1-2379f626e313",
   "metadata": {},
   "source": [
    "In this example we will use [Mall Customers Dataset](https://www.kaggle.com/datasets/hosammhmdali/mall-customers-dataset)\n",
    "\n",
    "First of all, we should download it and get path to csv file:"
   ]
  },
  {
   "cell_type": "code",
   "execution_count": 1,
   "id": "2d200ccc-c125-4064-897f-4b8d325d23b7",
   "metadata": {},
   "outputs": [],
   "source": [
    "import warnings\n",
    "warnings.filterwarnings('ignore')\n",
    "warnings.simplefilter('ignore')"
   ]
  },
  {
   "cell_type": "code",
   "execution_count": null,
   "id": "1bac5cad-31e1-4dcb-a8c9-5cac24899220",
   "metadata": {
    "scrolled": true
   },
   "outputs": [],
   "source": [
    "%pip install --upgrade pip --quiet\n",
    "%pip install kagglehub --quiet\n",
    "\n",
    "import kagglehub\n",
    "import os\n",
    "\n",
    "# Download latest version\n",
    "path = kagglehub.dataset_download(\"hosammhmdali/mall-customers-dataset\")\n",
    "\n",
    "# Retrieve csv file path\n",
    "dataset_dir = os.listdir(path)\n",
    "dataset_name = [name for name in dataset_dir if name.endswith(\".csv\")]\n",
    "dataset_path = f\"{path}/{dataset_name[0]}\""
   ]
  },
  {
   "cell_type": "markdown",
   "id": "17598805-2f13-4f26-b27c-56f24804f06e",
   "metadata": {},
   "source": [
    "Let's take a look how this dataset looks like"
   ]
  },
  {
   "cell_type": "code",
   "execution_count": 3,
   "id": "380c7989-236f-4714-bf0e-c8d13aa029c0",
   "metadata": {},
   "outputs": [
    {
     "name": "stdout",
     "output_type": "stream",
     "text": [
      "Note: you may need to restart the kernel to use updated packages.\n"
     ]
    },
    {
     "data": {
      "text/html": [
       "<div>\n",
       "<style scoped>\n",
       "    .dataframe tbody tr th:only-of-type {\n",
       "        vertical-align: middle;\n",
       "    }\n",
       "\n",
       "    .dataframe tbody tr th {\n",
       "        vertical-align: top;\n",
       "    }\n",
       "\n",
       "    .dataframe thead th {\n",
       "        text-align: right;\n",
       "    }\n",
       "</style>\n",
       "<table border=\"1\" class=\"dataframe\">\n",
       "  <thead>\n",
       "    <tr style=\"text-align: right;\">\n",
       "      <th></th>\n",
       "      <th>CustomerID</th>\n",
       "      <th>Genre</th>\n",
       "      <th>Age</th>\n",
       "      <th>Annual Income (k$)</th>\n",
       "      <th>Spending Score (1-100)</th>\n",
       "    </tr>\n",
       "  </thead>\n",
       "  <tbody>\n",
       "    <tr>\n",
       "      <th>0</th>\n",
       "      <td>1</td>\n",
       "      <td>Male</td>\n",
       "      <td>19</td>\n",
       "      <td>15</td>\n",
       "      <td>39</td>\n",
       "    </tr>\n",
       "    <tr>\n",
       "      <th>1</th>\n",
       "      <td>2</td>\n",
       "      <td>Male</td>\n",
       "      <td>21</td>\n",
       "      <td>15</td>\n",
       "      <td>81</td>\n",
       "    </tr>\n",
       "    <tr>\n",
       "      <th>2</th>\n",
       "      <td>3</td>\n",
       "      <td>Female</td>\n",
       "      <td>20</td>\n",
       "      <td>16</td>\n",
       "      <td>6</td>\n",
       "    </tr>\n",
       "    <tr>\n",
       "      <th>3</th>\n",
       "      <td>4</td>\n",
       "      <td>Female</td>\n",
       "      <td>23</td>\n",
       "      <td>16</td>\n",
       "      <td>77</td>\n",
       "    </tr>\n",
       "    <tr>\n",
       "      <th>4</th>\n",
       "      <td>5</td>\n",
       "      <td>Female</td>\n",
       "      <td>31</td>\n",
       "      <td>17</td>\n",
       "      <td>40</td>\n",
       "    </tr>\n",
       "  </tbody>\n",
       "</table>\n",
       "</div>"
      ],
      "text/plain": [
       "   CustomerID   Genre  Age  Annual Income (k$)  Spending Score (1-100)\n",
       "0           1    Male   19                  15                      39\n",
       "1           2    Male   21                  15                      81\n",
       "2           3  Female   20                  16                       6\n",
       "3           4  Female   23                  16                      77\n",
       "4           5  Female   31                  17                      40"
      ]
     },
     "execution_count": 3,
     "metadata": {},
     "output_type": "execute_result"
    }
   ],
   "source": [
    "%pip install pandas --quiet\n",
    "import pandas as pd\n",
    "df = pd.read_csv(dataset_path)\n",
    "df.head()"
   ]
  },
  {
   "cell_type": "markdown",
   "id": "3ff3e1d7-c62b-4d4f-abed-6909c1132864",
   "metadata": {},
   "source": [
    "### Transform"
   ]
  },
  {
   "cell_type": "markdown",
   "id": "127ee51e-60ea-4f00-8ffa-6e1fb9d940c1",
   "metadata": {},
   "source": [
    "Let's rename column names to get rid of spaces and simplify readability"
   ]
  },
  {
   "cell_type": "code",
   "execution_count": 4,
   "id": "ab8bdc54-9c7a-44b7-84ad-fd39d550799c",
   "metadata": {
    "scrolled": true
   },
   "outputs": [
    {
     "data": {
      "text/html": [
       "<div>\n",
       "<style scoped>\n",
       "    .dataframe tbody tr th:only-of-type {\n",
       "        vertical-align: middle;\n",
       "    }\n",
       "\n",
       "    .dataframe tbody tr th {\n",
       "        vertical-align: top;\n",
       "    }\n",
       "\n",
       "    .dataframe thead th {\n",
       "        text-align: right;\n",
       "    }\n",
       "</style>\n",
       "<table border=\"1\" class=\"dataframe\">\n",
       "  <thead>\n",
       "    <tr style=\"text-align: right;\">\n",
       "      <th></th>\n",
       "      <th>id</th>\n",
       "      <th>sex</th>\n",
       "      <th>age</th>\n",
       "      <th>income</th>\n",
       "      <th>spending_score</th>\n",
       "    </tr>\n",
       "  </thead>\n",
       "  <tbody>\n",
       "    <tr>\n",
       "      <th>0</th>\n",
       "      <td>1</td>\n",
       "      <td>Male</td>\n",
       "      <td>19</td>\n",
       "      <td>15</td>\n",
       "      <td>39</td>\n",
       "    </tr>\n",
       "    <tr>\n",
       "      <th>1</th>\n",
       "      <td>2</td>\n",
       "      <td>Male</td>\n",
       "      <td>21</td>\n",
       "      <td>15</td>\n",
       "      <td>81</td>\n",
       "    </tr>\n",
       "    <tr>\n",
       "      <th>2</th>\n",
       "      <td>3</td>\n",
       "      <td>Female</td>\n",
       "      <td>20</td>\n",
       "      <td>16</td>\n",
       "      <td>6</td>\n",
       "    </tr>\n",
       "    <tr>\n",
       "      <th>3</th>\n",
       "      <td>4</td>\n",
       "      <td>Female</td>\n",
       "      <td>23</td>\n",
       "      <td>16</td>\n",
       "      <td>77</td>\n",
       "    </tr>\n",
       "    <tr>\n",
       "      <th>4</th>\n",
       "      <td>5</td>\n",
       "      <td>Female</td>\n",
       "      <td>31</td>\n",
       "      <td>17</td>\n",
       "      <td>40</td>\n",
       "    </tr>\n",
       "  </tbody>\n",
       "</table>\n",
       "</div>"
      ],
      "text/plain": [
       "   id     sex  age  income  spending_score\n",
       "0   1    Male   19      15              39\n",
       "1   2    Male   21      15              81\n",
       "2   3  Female   20      16               6\n",
       "3   4  Female   23      16              77\n",
       "4   5  Female   31      17              40"
      ]
     },
     "execution_count": 4,
     "metadata": {},
     "output_type": "execute_result"
    }
   ],
   "source": [
    "df = df.rename(columns={\n",
    "    \"CustomerID\": \"id\",\n",
    "    \"Genre\": \"sex\",\n",
    "    \"Age\": \"age\",\n",
    "    \"Annual Income (k$)\": \"income\",\n",
    "    \"Spending Score (1-100)\": \"spending_score\",\n",
    "})\n",
    "df.head()"
   ]
  },
  {
   "cell_type": "markdown",
   "id": "7c786e22-9a90-4723-a63f-5218cce7d677",
   "metadata": {},
   "source": [
    "Dataset is ready for work!"
   ]
  },
  {
   "cell_type": "markdown",
   "id": "8375a538-a5ec-47cf-8725-ab9a2a3c947a",
   "metadata": {},
   "source": [
    "## Actions with YDB"
   ]
  },
  {
   "cell_type": "markdown",
   "id": "a85c8ff8-ea5b-45f0-8dfb-49f80530859d",
   "metadata": {},
   "source": [
    "### Create SQLAlchemy Engine and connect"
   ]
  },
  {
   "cell_type": "markdown",
   "id": "905748ac-7cb1-4b04-be7c-c599045736d3",
   "metadata": {},
   "source": [
    "First of all, we have to install YDB SA Dialect:"
   ]
  },
  {
   "cell_type": "code",
   "execution_count": null,
   "id": "224d8411-f2b1-4983-b36f-370a43283f14",
   "metadata": {},
   "outputs": [],
   "source": [
    "%pip install ydb-sqlalchemy==0.1.3 --quiet"
   ]
  },
  {
   "cell_type": "markdown",
   "id": "8a007bf7-d12c-46ec-ad9b-b7967a9ff436",
   "metadata": {},
   "source": [
    "Target YDB installation uses service account to auth. In block below we load service accont json and install additional dependency to use SA auth.\n",
    "\n",
    "Skip this part if your YDB installation uses another auth method."
   ]
  },
  {
   "cell_type": "markdown",
   "id": "e453c5e4-6c6f-414e-b87c-c9e06bd20a19",
   "metadata": {},
   "source": [
    "\n",
    "\n",
    "Let's create SA engine and connection"
   ]
  },
  {
   "cell_type": "code",
   "execution_count": 6,
   "id": "affd66f0-e0a4-49ef-8faf-353cbe2b6351",
   "metadata": {},
   "outputs": [],
   "source": [
    "import sqlalchemy as sa\n",
    "\n",
    "engine = sa.create_engine(\"ydb+ydb_sync://localhost:2136/local\")\n",
    "conn = engine.connect()"
   ]
  },
  {
   "cell_type": "markdown",
   "id": "1ad6390d-da01-47ec-b7d5-853212677f49",
   "metadata": {},
   "source": [
    "Done! We are ready for work with YDB via sqlalchemy!"
   ]
  },
  {
   "cell_type": "markdown",
   "id": "26f06b65-54f7-4adb-9d34-89046f3b286f",
   "metadata": {},
   "source": [
    "### Create database"
   ]
  },
  {
   "cell_type": "markdown",
   "id": "c50ff1a7-d596-46d0-91b2-0351bd8e20ad",
   "metadata": {},
   "source": [
    "There's no way to specify PK directly from `df.to_sql`, since `YDB` does not support tables without PK we have to prepare database first"
   ]
  },
  {
   "cell_type": "code",
   "execution_count": 7,
   "id": "625931ec-2502-4eda-b883-75ae60055acf",
   "metadata": {},
   "outputs": [
    {
     "data": {
      "text/plain": [
       "<sqlalchemy.engine.cursor.CursorResult at 0x10b035600>"
      ]
     },
     "execution_count": 7,
     "metadata": {},
     "output_type": "execute_result"
    }
   ],
   "source": [
    "table_name = \"mall_customers\"\n",
    "\n",
    "conn.execute(sa.DDL(f\"DROP TABLE IF EXISTS {table_name}\"))\n",
    "conn.execute(sa.DDL(\n",
    "    f\"\"\"\n",
    "    CREATE TABLE {table_name} (\n",
    "\t`id` Int64, \n",
    "\t`sex` UTF8, \n",
    "\t`age` Int64, \n",
    "\t`income` Int64, \n",
    "\t`spending_score` Int64,\n",
    "    primary key (id)\n",
    "    )\n",
    "    \"\"\"\n",
    "))"
   ]
  },
  {
   "cell_type": "markdown",
   "id": "76392855-0108-4c88-a884-e5bf225f7925",
   "metadata": {},
   "source": [
    "### Pandas DataFrame integrations"
   ]
  },
  {
   "cell_type": "markdown",
   "id": "52e2a62c-8ed4-4cd0-9ada-1b5279ce8729",
   "metadata": {},
   "source": [
    "YDB Dialect is compatible with `DataFrame.to_sql` and `DataFrame.read_sql*` operations. Let's show example how to use it."
   ]
  },
  {
   "cell_type": "markdown",
   "id": "e7306877-0ae2-47d9-906b-02f33a77b5e6",
   "metadata": {},
   "source": [
    "*Note: Current YDB dialect version is not optimised to work with multiple inserts, it is better to use YDB CLI to load huge datasets to YDB.*"
   ]
  },
  {
   "cell_type": "markdown",
   "id": "b228ad46-10ea-461e-b2df-67e196067adb",
   "metadata": {},
   "source": [
    "Loading dataframe to YDB table:"
   ]
  },
  {
   "cell_type": "code",
   "execution_count": 8,
   "id": "9db9b0b0-da6d-46b3-9060-80788ef027ed",
   "metadata": {},
   "outputs": [
    {
     "data": {
      "text/plain": [
       "-1"
      ]
     },
     "execution_count": 8,
     "metadata": {},
     "output_type": "execute_result"
    }
   ],
   "source": [
    "df.to_sql(table_name, conn, if_exists='append', index=False, method=None)"
   ]
  },
  {
   "cell_type": "markdown",
   "id": "2c0148b2-7659-4f7e-a20b-fb663ee0d3bb",
   "metadata": {},
   "source": [
    "Loading YQL Query ResultSet to DataFrame:"
   ]
  },
  {
   "cell_type": "code",
   "execution_count": 9,
   "id": "7603f892-4fa6-4d5d-8952-0e55c3266b39",
   "metadata": {},
   "outputs": [
    {
     "data": {
      "text/html": [
       "<div>\n",
       "<style scoped>\n",
       "    .dataframe tbody tr th:only-of-type {\n",
       "        vertical-align: middle;\n",
       "    }\n",
       "\n",
       "    .dataframe tbody tr th {\n",
       "        vertical-align: top;\n",
       "    }\n",
       "\n",
       "    .dataframe thead th {\n",
       "        text-align: right;\n",
       "    }\n",
       "</style>\n",
       "<table border=\"1\" class=\"dataframe\">\n",
       "  <thead>\n",
       "    <tr style=\"text-align: right;\">\n",
       "      <th></th>\n",
       "      <th>age</th>\n",
       "      <th>id</th>\n",
       "      <th>income</th>\n",
       "      <th>sex</th>\n",
       "      <th>spending_score</th>\n",
       "    </tr>\n",
       "  </thead>\n",
       "  <tbody>\n",
       "    <tr>\n",
       "      <th>0</th>\n",
       "      <td>19</td>\n",
       "      <td>1</td>\n",
       "      <td>15</td>\n",
       "      <td>Male</td>\n",
       "      <td>39</td>\n",
       "    </tr>\n",
       "    <tr>\n",
       "      <th>1</th>\n",
       "      <td>21</td>\n",
       "      <td>2</td>\n",
       "      <td>15</td>\n",
       "      <td>Male</td>\n",
       "      <td>81</td>\n",
       "    </tr>\n",
       "    <tr>\n",
       "      <th>2</th>\n",
       "      <td>20</td>\n",
       "      <td>3</td>\n",
       "      <td>16</td>\n",
       "      <td>Female</td>\n",
       "      <td>6</td>\n",
       "    </tr>\n",
       "    <tr>\n",
       "      <th>3</th>\n",
       "      <td>23</td>\n",
       "      <td>4</td>\n",
       "      <td>16</td>\n",
       "      <td>Female</td>\n",
       "      <td>77</td>\n",
       "    </tr>\n",
       "    <tr>\n",
       "      <th>4</th>\n",
       "      <td>31</td>\n",
       "      <td>5</td>\n",
       "      <td>17</td>\n",
       "      <td>Female</td>\n",
       "      <td>40</td>\n",
       "    </tr>\n",
       "    <tr>\n",
       "      <th>...</th>\n",
       "      <td>...</td>\n",
       "      <td>...</td>\n",
       "      <td>...</td>\n",
       "      <td>...</td>\n",
       "      <td>...</td>\n",
       "    </tr>\n",
       "    <tr>\n",
       "      <th>195</th>\n",
       "      <td>35</td>\n",
       "      <td>196</td>\n",
       "      <td>120</td>\n",
       "      <td>Female</td>\n",
       "      <td>79</td>\n",
       "    </tr>\n",
       "    <tr>\n",
       "      <th>196</th>\n",
       "      <td>45</td>\n",
       "      <td>197</td>\n",
       "      <td>126</td>\n",
       "      <td>Female</td>\n",
       "      <td>28</td>\n",
       "    </tr>\n",
       "    <tr>\n",
       "      <th>197</th>\n",
       "      <td>32</td>\n",
       "      <td>198</td>\n",
       "      <td>126</td>\n",
       "      <td>Male</td>\n",
       "      <td>74</td>\n",
       "    </tr>\n",
       "    <tr>\n",
       "      <th>198</th>\n",
       "      <td>32</td>\n",
       "      <td>199</td>\n",
       "      <td>137</td>\n",
       "      <td>Male</td>\n",
       "      <td>18</td>\n",
       "    </tr>\n",
       "    <tr>\n",
       "      <th>199</th>\n",
       "      <td>30</td>\n",
       "      <td>200</td>\n",
       "      <td>137</td>\n",
       "      <td>Male</td>\n",
       "      <td>83</td>\n",
       "    </tr>\n",
       "  </tbody>\n",
       "</table>\n",
       "<p>200 rows × 5 columns</p>\n",
       "</div>"
      ],
      "text/plain": [
       "     age   id  income     sex  spending_score\n",
       "0     19    1      15    Male              39\n",
       "1     21    2      15    Male              81\n",
       "2     20    3      16  Female               6\n",
       "3     23    4      16  Female              77\n",
       "4     31    5      17  Female              40\n",
       "..   ...  ...     ...     ...             ...\n",
       "195   35  196     120  Female              79\n",
       "196   45  197     126  Female              28\n",
       "197   32  198     126    Male              74\n",
       "198   32  199     137    Male              18\n",
       "199   30  200     137    Male              83\n",
       "\n",
       "[200 rows x 5 columns]"
      ]
     },
     "execution_count": 9,
     "metadata": {},
     "output_type": "execute_result"
    }
   ],
   "source": [
    "new_df = pd.read_sql(f\"SELECT * FROM {table_name}\", conn)\n",
    "new_df"
   ]
  },
  {
   "cell_type": "markdown",
   "id": "51d199e4-35f6-4b25-b48f-8ab74b7f85fb",
   "metadata": {},
   "source": [
    "Loading full YDB table to DataFrame:"
   ]
  },
  {
   "cell_type": "code",
   "execution_count": 10,
   "id": "9499775b-eb62-44c4-806a-da786d62523a",
   "metadata": {
    "scrolled": true
   },
   "outputs": [
    {
     "data": {
      "text/html": [
       "<div>\n",
       "<style scoped>\n",
       "    .dataframe tbody tr th:only-of-type {\n",
       "        vertical-align: middle;\n",
       "    }\n",
       "\n",
       "    .dataframe tbody tr th {\n",
       "        vertical-align: top;\n",
       "    }\n",
       "\n",
       "    .dataframe thead th {\n",
       "        text-align: right;\n",
       "    }\n",
       "</style>\n",
       "<table border=\"1\" class=\"dataframe\">\n",
       "  <thead>\n",
       "    <tr style=\"text-align: right;\">\n",
       "      <th></th>\n",
       "      <th>id</th>\n",
       "      <th>sex</th>\n",
       "      <th>age</th>\n",
       "      <th>income</th>\n",
       "      <th>spending_score</th>\n",
       "    </tr>\n",
       "  </thead>\n",
       "  <tbody>\n",
       "    <tr>\n",
       "      <th>0</th>\n",
       "      <td>1</td>\n",
       "      <td>Male</td>\n",
       "      <td>19</td>\n",
       "      <td>15</td>\n",
       "      <td>39</td>\n",
       "    </tr>\n",
       "    <tr>\n",
       "      <th>1</th>\n",
       "      <td>2</td>\n",
       "      <td>Male</td>\n",
       "      <td>21</td>\n",
       "      <td>15</td>\n",
       "      <td>81</td>\n",
       "    </tr>\n",
       "    <tr>\n",
       "      <th>2</th>\n",
       "      <td>3</td>\n",
       "      <td>Female</td>\n",
       "      <td>20</td>\n",
       "      <td>16</td>\n",
       "      <td>6</td>\n",
       "    </tr>\n",
       "    <tr>\n",
       "      <th>3</th>\n",
       "      <td>4</td>\n",
       "      <td>Female</td>\n",
       "      <td>23</td>\n",
       "      <td>16</td>\n",
       "      <td>77</td>\n",
       "    </tr>\n",
       "    <tr>\n",
       "      <th>4</th>\n",
       "      <td>5</td>\n",
       "      <td>Female</td>\n",
       "      <td>31</td>\n",
       "      <td>17</td>\n",
       "      <td>40</td>\n",
       "    </tr>\n",
       "    <tr>\n",
       "      <th>...</th>\n",
       "      <td>...</td>\n",
       "      <td>...</td>\n",
       "      <td>...</td>\n",
       "      <td>...</td>\n",
       "      <td>...</td>\n",
       "    </tr>\n",
       "    <tr>\n",
       "      <th>195</th>\n",
       "      <td>196</td>\n",
       "      <td>Female</td>\n",
       "      <td>35</td>\n",
       "      <td>120</td>\n",
       "      <td>79</td>\n",
       "    </tr>\n",
       "    <tr>\n",
       "      <th>196</th>\n",
       "      <td>197</td>\n",
       "      <td>Female</td>\n",
       "      <td>45</td>\n",
       "      <td>126</td>\n",
       "      <td>28</td>\n",
       "    </tr>\n",
       "    <tr>\n",
       "      <th>197</th>\n",
       "      <td>198</td>\n",
       "      <td>Male</td>\n",
       "      <td>32</td>\n",
       "      <td>126</td>\n",
       "      <td>74</td>\n",
       "    </tr>\n",
       "    <tr>\n",
       "      <th>198</th>\n",
       "      <td>199</td>\n",
       "      <td>Male</td>\n",
       "      <td>32</td>\n",
       "      <td>137</td>\n",
       "      <td>18</td>\n",
       "    </tr>\n",
       "    <tr>\n",
       "      <th>199</th>\n",
       "      <td>200</td>\n",
       "      <td>Male</td>\n",
       "      <td>30</td>\n",
       "      <td>137</td>\n",
       "      <td>83</td>\n",
       "    </tr>\n",
       "  </tbody>\n",
       "</table>\n",
       "<p>200 rows × 5 columns</p>\n",
       "</div>"
      ],
      "text/plain": [
       "      id     sex  age  income  spending_score\n",
       "0      1    Male   19      15              39\n",
       "1      2    Male   21      15              81\n",
       "2      3  Female   20      16               6\n",
       "3      4  Female   23      16              77\n",
       "4      5  Female   31      17              40\n",
       "..   ...     ...  ...     ...             ...\n",
       "195  196  Female   35     120              79\n",
       "196  197  Female   45     126              28\n",
       "197  198    Male   32     126              74\n",
       "198  199    Male   32     137              18\n",
       "199  200    Male   30     137              83\n",
       "\n",
       "[200 rows x 5 columns]"
      ]
     },
     "execution_count": 10,
     "metadata": {},
     "output_type": "execute_result"
    }
   ],
   "source": [
    "table_df = pd.read_sql_table(table_name, conn)\n",
    "table_df"
   ]
  },
  {
   "cell_type": "markdown",
   "id": "b0b605fd-cacb-4bd0-9b6a-1adecf7aaeb9",
   "metadata": {},
   "source": [
    "That's it! From this moment you are free to do whatever you like with loaded DataFrame from YDB:"
   ]
  },
  {
   "cell_type": "code",
   "execution_count": 11,
   "id": "a7842a2e-247b-4750-9ba1-af1784ccb3ab",
   "metadata": {},
   "outputs": [
    {
     "name": "stdout",
     "output_type": "stream",
     "text": [
      "Note: you may need to restart the kernel to use updated packages.\n"
     ]
    },
    {
     "data": {
      "text/plain": [
       "<Axes: xlabel='age', ylabel='spending_score'>"
      ]
     },
     "execution_count": 11,
     "metadata": {},
     "output_type": "execute_result"
    },
    {
     "data": {
      "image/png": "[encoded data removed]",
      "text/plain": [
       "<Figure size 640x480 with 1 Axes>"
      ]
     },
     "metadata": {},
     "output_type": "display_data"
    }
   ],
   "source": [
    "%pip install matplotlib --quiet\n",
    "import matplotlib.pyplot as plt\n",
    "\n",
    "table_df.plot(x='age', y='spending_score', kind='scatter')"
   ]
  },
  {
   "cell_type": "markdown",
   "id": "532931a6-1cb0-43f6-b321-df2c897088e7",
   "metadata": {},
   "source": [
    "### JupySQL integrations"
   ]
  },
  {
   "cell_type": "markdown",
   "id": "5c79b847-9fae-49f6-9988-4f818d473b08",
   "metadata": {},
   "source": [
    "YDB SQLAlchemy dialect is compatible with JupySQL. Let's install it and use `sql magic` comes with it."
   ]
  },
  {
   "cell_type": "code",
   "execution_count": null,
   "id": "0ecaaf12-4906-4cc3-a3de-6f59102a439f",
   "metadata": {},
   "outputs": [],
   "source": [
    "%pip install jupysql --quiet\n",
    "%load_ext sql"
   ]
  },
  {
   "cell_type": "markdown",
   "id": "654c1b61-db89-47f2-ac20-80efebda7e06",
   "metadata": {},
   "source": [
    "We should connect our SQLAlchemy engine with JupySQL:"
   ]
  },
  {
   "cell_type": "code",
   "execution_count": 13,
   "id": "186cd040-f100-4572-ba2d-3f1691a11ffc",
   "metadata": {},
   "outputs": [],
   "source": [
    "%sql engine"
   ]
  },
  {
   "cell_type": "markdown",
   "id": "ba810826-0c9e-4652-bec3-afbbecb61d2a",
   "metadata": {},
   "source": [
    "Now we are free to use SQL expressions right from Notebook:"
   ]
  },
  {
   "cell_type": "code",
   "execution_count": 14,
   "id": "6b2465e5-531f-4acd-9c8e-bc58552e11bb",
   "metadata": {},
   "outputs": [
    {
     "data": {
      "text/html": [
       "<span style=\"None\">Running query in &#x27;ydb+ydb_sync://localhost:2136/local&#x27;</span>"
      ],
      "text/plain": [
       "Running query in 'ydb+ydb_sync://localhost:2136/local'"
      ]
     },
     "metadata": {},
     "output_type": "display_data"
    },
    {
     "data": {
      "text/html": [
       "<span style=\"color: green\">200 rows affected.</span>"
      ],
      "text/plain": [
       "200 rows affected."
      ]
     },
     "metadata": {},
     "output_type": "display_data"
    },
    {
     "data": {
      "text/html": [
       "<table>\n",
       "    <thead>\n",
       "        <tr>\n",
       "            <th>age</th>\n",
       "            <th>id</th>\n",
       "            <th>income</th>\n",
       "            <th>sex</th>\n",
       "            <th>spending_score</th>\n",
       "        </tr>\n",
       "    </thead>\n",
       "    <tbody>\n",
       "        <tr>\n",
       "            <td>19</td>\n",
       "            <td>1</td>\n",
       "            <td>15</td>\n",
       "            <td>Male</td>\n",
       "            <td>39</td>\n",
       "        </tr>\n",
       "        <tr>\n",
       "            <td>21</td>\n",
       "            <td>2</td>\n",
       "            <td>15</td>\n",
       "            <td>Male</td>\n",
       "            <td>81</td>\n",
       "        </tr>\n",
       "        <tr>\n",
       "            <td>20</td>\n",
       "            <td>3</td>\n",
       "            <td>16</td>\n",
       "            <td>Female</td>\n",
       "            <td>6</td>\n",
       "        </tr>\n",
       "        <tr>\n",
       "            <td>23</td>\n",
       "            <td>4</td>\n",
       "            <td>16</td>\n",
       "            <td>Female</td>\n",
       "            <td>77</td>\n",
       "        </tr>\n",
       "        <tr>\n",
       "            <td>31</td>\n",
       "            <td>5</td>\n",
       "            <td>17</td>\n",
       "            <td>Female</td>\n",
       "            <td>40</td>\n",
       "        </tr>\n",
       "        <tr>\n",
       "            <td>22</td>\n",
       "            <td>6</td>\n",
       "            <td>17</td>\n",
       "            <td>Female</td>\n",
       "            <td>76</td>\n",
       "        </tr>\n",
       "        <tr>\n",
       "            <td>35</td>\n",
       "            <td>7</td>\n",
       "            <td>18</td>\n",
       "            <td>Female</td>\n",
       "            <td>6</td>\n",
       "        </tr>\n",
       "        <tr>\n",
       "            <td>23</td>\n",
       "            <td>8</td>\n",
       "            <td>18</td>\n",
       "            <td>Female</td>\n",
       "            <td>94</td>\n",
       "        </tr>\n",
       "        <tr>\n",
       "            <td>64</td>\n",
       "            <td>9</td>\n",
       "            <td>19</td>\n",
       "            <td>Male</td>\n",
       "            <td>3</td>\n",
       "        </tr>\n",
       "        <tr>\n",
       "            <td>30</td>\n",
       "            <td>10</td>\n",
       "            <td>19</td>\n",
       "            <td>Female</td>\n",
       "            <td>72</td>\n",
       "        </tr>\n",
       "    </tbody>\n",
       "</table>\n",
       "<span style=\"font-style:italic;text-align:center;\">Truncated to <a href=\"https://jupysql.ploomber.io/en/latest/api/configuration.html#displaylimit\">displaylimit</a> of 10.</span>"
      ],
      "text/plain": [
       "+-----+----+--------+--------+----------------+\n",
       "| age | id | income |  sex   | spending_score |\n",
       "+-----+----+--------+--------+----------------+\n",
       "|  19 | 1  |   15   |  Male  |       39       |\n",
       "|  21 | 2  |   15   |  Male  |       81       |\n",
       "|  20 | 3  |   16   | Female |       6        |\n",
       "|  23 | 4  |   16   | Female |       77       |\n",
       "|  31 | 5  |   17   | Female |       40       |\n",
       "|  22 | 6  |   17   | Female |       76       |\n",
       "|  35 | 7  |   18   | Female |       6        |\n",
       "|  23 | 8  |   18   | Female |       94       |\n",
       "|  64 | 9  |   19   |  Male  |       3        |\n",
       "|  30 | 10 |   19   | Female |       72       |\n",
       "+-----+----+--------+--------+----------------+\n",
       "Truncated to displaylimit of 10."
      ]
     },
     "execution_count": 14,
     "metadata": {},
     "output_type": "execute_result"
    }
   ],
   "source": [
    "%sql SELECT * FROM mall_customers"
   ]
  },
  {
   "cell_type": "code",
   "execution_count": 15,
   "id": "6a3465f4-be68-45e1-8886-1e6837de8915",
   "metadata": {},
   "outputs": [
    {
     "data": {
      "text/html": [
       "<span style=\"None\">Running query in &#x27;ydb+ydb_sync://localhost:2136/local&#x27;</span>"
      ],
      "text/plain": [
       "Running query in 'ydb+ydb_sync://localhost:2136/local'"
      ]
     },
     "metadata": {},
     "output_type": "display_data"
    },
    {
     "data": {
      "text/html": [
       "<span style=\"color: green\">1 rows affected.</span>"
      ],
      "text/plain": [
       "1 rows affected."
      ]
     },
     "metadata": {},
     "output_type": "display_data"
    },
    {
     "data": {
      "text/html": [
       "<table>\n",
       "    <thead>\n",
       "        <tr>\n",
       "            <th>max(spending_score)</th>\n",
       "        </tr>\n",
       "    </thead>\n",
       "    <tbody>\n",
       "        <tr>\n",
       "            <td>97</td>\n",
       "        </tr>\n",
       "    </tbody>\n",
       "</table>"
      ],
      "text/plain": [
       "+---------------------+\n",
       "| max(spending_score) |\n",
       "+---------------------+\n",
       "|          97         |\n",
       "+---------------------+"
      ]
     },
     "execution_count": 15,
     "metadata": {},
     "output_type": "execute_result"
    }
   ],
   "source": [
    "%%sql\n",
    "SELECT max(spending_score) as `max(spending_score)`\n",
    "    FROM mall_customers\n",
    "    WHERE sex = \"Male\" AND age < 30"
   ]
  }
 ],
 "metadata": {
  "kernelspec": {
   "display_name": "Python 3 (ipykernel)",
   "language": "python",
   "name": "python3"
  },
  "language_info": {
   "codemirror_mode": {
    "name": "ipython",
    "version": 3
   },
   "file_extension": ".py",
   "mimetype": "text/x-python",
   "name": "python",
   "nbconvert_exporter": "python",
   "pygments_lexer": "ipython3",
   "version": "3.10.15"
  }
 },
 "nbformat": 4,
 "nbformat_minor": 5
}
